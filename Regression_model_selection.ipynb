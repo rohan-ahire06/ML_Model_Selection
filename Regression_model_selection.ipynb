{
  "nbformat": 4,
  "nbformat_minor": 0,
  "metadata": {
    "colab": {
      "name": "Regression_model_selection.ipynb",
      "provenance": []
    },
    "kernelspec": {
      "name": "python3",
      "display_name": "Python 3"
    },
    "language_info": {
      "name": "python"
    }
  },
  "cells": [
    {
      "cell_type": "markdown",
      "metadata": {
        "id": "m72rHWVsJ00Z"
      },
      "source": [
        "# Regression model selection"
      ]
    },
    {
      "cell_type": "code",
      "metadata": {
        "id": "fbjhyr-YKK3u"
      },
      "source": [
        "from sklearn.datasets import make_regression"
      ],
      "execution_count": 1,
      "outputs": []
    },
    {
      "cell_type": "code",
      "metadata": {
        "id": "eDdYEBNwLjlT"
      },
      "source": [
        "X, Y = make_regression(n_samples=1000, n_features=5, random_state=1)"
      ],
      "execution_count": 2,
      "outputs": []
    },
    {
      "cell_type": "code",
      "metadata": {
        "colab": {
          "base_uri": "https://localhost:8080/"
        },
        "id": "IX0UIk5NLwaF",
        "outputId": "5163048f-c5e2-4cb1-f077-51f06983e7cb"
      },
      "source": [
        "X.shape"
      ],
      "execution_count": 3,
      "outputs": [
        {
          "output_type": "execute_result",
          "data": {
            "text/plain": [
              "(1000, 5)"
            ]
          },
          "metadata": {
            "tags": []
          },
          "execution_count": 3
        }
      ]
    },
    {
      "cell_type": "code",
      "metadata": {
        "colab": {
          "base_uri": "https://localhost:8080/"
        },
        "id": "d6RtbnbCL2Ir",
        "outputId": "bdd69189-e277-4da9-c4b6-64d3507706b3"
      },
      "source": [
        "Y.shape"
      ],
      "execution_count": 4,
      "outputs": [
        {
          "output_type": "execute_result",
          "data": {
            "text/plain": [
              "(1000,)"
            ]
          },
          "metadata": {
            "tags": []
          },
          "execution_count": 4
        }
      ]
    },
    {
      "cell_type": "markdown",
      "metadata": {
        "id": "JzrqJdSYL617"
      },
      "source": [
        "# Train Test Splite"
      ]
    },
    {
      "cell_type": "code",
      "metadata": {
        "colab": {
          "base_uri": "https://localhost:8080/"
        },
        "id": "THXA_f8uL4MR",
        "outputId": "18960616-fec6-4544-e525-f38f0e604889"
      },
      "source": [
        "from sklearn.model_selection import train_test_split\n",
        "X_train, X_test, Y_train, Y_test = train_test_split(X, Y, test_size=0.2)\n",
        "X_train.shape, Y_train.shape"
      ],
      "execution_count": 5,
      "outputs": [
        {
          "output_type": "execute_result",
          "data": {
            "text/plain": [
              "((800, 5), (800,))"
            ]
          },
          "metadata": {
            "tags": []
          },
          "execution_count": 5
        }
      ]
    },
    {
      "cell_type": "code",
      "metadata": {
        "colab": {
          "base_uri": "https://localhost:8080/"
        },
        "id": "t8b5mRYfMDho",
        "outputId": "41c79106-587d-4e05-de54-ae66949650ad"
      },
      "source": [
        "X_test.shape, Y_test.shape"
      ],
      "execution_count": 6,
      "outputs": [
        {
          "output_type": "execute_result",
          "data": {
            "text/plain": [
              "((200, 5), (200,))"
            ]
          },
          "metadata": {
            "tags": []
          },
          "execution_count": 6
        }
      ]
    },
    {
      "cell_type": "markdown",
      "metadata": {
        "id": "vGxdLXCoMUUz"
      },
      "source": [
        "#  Build Regression Models"
      ]
    },
    {
      "cell_type": "code",
      "metadata": {
        "id": "Kcu3MjaHMRRa"
      },
      "source": [
        "import pandas as pd\n",
        "\n",
        "from sklearn.linear_model import LinearRegression\n",
        "from sklearn.ensemble import RandomForestRegressor\n",
        "from sklearn.tree import DecisionTreeRegressor\n",
        "from sklearn.svm import SVR"
      ],
      "execution_count": 7,
      "outputs": []
    },
    {
      "cell_type": "code",
      "metadata": {
        "id": "ZbMWpzn0Onzh"
      },
      "source": [
        "names = [\"LinearRegression\", \"RandomForestRegressor\",\"DecisionTreeRegressor\",\"Linear_SVM\"]\n",
        "\n",
        "regressors = [\n",
        "                LinearRegression(),\n",
        "                RandomForestRegressor(n_estimators = 10, random_state = 0),\n",
        "                DecisionTreeRegressor(random_state = 0),\n",
        "                SVR(kernel=\"linear\", C=0.025)\n",
        "]"
      ],
      "execution_count": 10,
      "outputs": []
    },
    {
      "cell_type": "markdown",
      "metadata": {
        "id": "SNEENqpqQqp4"
      },
      "source": [
        "# Build Model, Apply Model on Test Data & Record Accuracy Scores"
      ]
    },
    {
      "cell_type": "code",
      "metadata": {
        "id": "AASnb3ABQoDV"
      },
      "source": [
        "scores = []\n",
        "for name, reg in zip(names, regressors):\n",
        "    reg.fit(X_train, Y_train)\n",
        "    score = reg.score(X_test, Y_test)\n",
        "    scores.append(score)"
      ],
      "execution_count": 11,
      "outputs": []
    },
    {
      "cell_type": "code",
      "metadata": {
        "colab": {
          "base_uri": "https://localhost:8080/"
        },
        "id": "QSHRYZrZRRVU",
        "outputId": "b1824006-ee3f-4273-b396-893522217921"
      },
      "source": [
        "scores"
      ],
      "execution_count": 12,
      "outputs": [
        {
          "output_type": "execute_result",
          "data": {
            "text/plain": [
              "[1.0,\n",
              " 0.9548615348944282,\n",
              " 0.8927604018421568,\n",
              " 0.3272338753169596,\n",
              " 0.03992507223585329,\n",
              " 0.03870429952397059]"
            ]
          },
          "metadata": {
            "tags": []
          },
          "execution_count": 12
        }
      ]
    },
    {
      "cell_type": "code",
      "metadata": {
        "colab": {
          "base_uri": "https://localhost:8080/",
          "height": 234
        },
        "id": "mZlWOmnSRRKA",
        "outputId": "80df2c06-596d-4bef-de2e-eebc0d718c4d"
      },
      "source": [
        "import seaborn as sns\n",
        "\n",
        "df = pd.DataFrame()\n",
        "df['name'] = names\n",
        "df['score'] = scores\n",
        "df"
      ],
      "execution_count": 13,
      "outputs": [
        {
          "output_type": "execute_result",
          "data": {
            "text/html": [
              "<div>\n",
              "<style scoped>\n",
              "    .dataframe tbody tr th:only-of-type {\n",
              "        vertical-align: middle;\n",
              "    }\n",
              "\n",
              "    .dataframe tbody tr th {\n",
              "        vertical-align: top;\n",
              "    }\n",
              "\n",
              "    .dataframe thead th {\n",
              "        text-align: right;\n",
              "    }\n",
              "</style>\n",
              "<table border=\"1\" class=\"dataframe\">\n",
              "  <thead>\n",
              "    <tr style=\"text-align: right;\">\n",
              "      <th></th>\n",
              "      <th>name</th>\n",
              "      <th>score</th>\n",
              "    </tr>\n",
              "  </thead>\n",
              "  <tbody>\n",
              "    <tr>\n",
              "      <th>0</th>\n",
              "      <td>LinearRegression</td>\n",
              "      <td>1.000000</td>\n",
              "    </tr>\n",
              "    <tr>\n",
              "      <th>1</th>\n",
              "      <td>RandomForestRegressor</td>\n",
              "      <td>0.954862</td>\n",
              "    </tr>\n",
              "    <tr>\n",
              "      <th>2</th>\n",
              "      <td>DecisionTreeRegressor</td>\n",
              "      <td>0.892760</td>\n",
              "    </tr>\n",
              "    <tr>\n",
              "      <th>3</th>\n",
              "      <td>Linear_SVM</td>\n",
              "      <td>0.327234</td>\n",
              "    </tr>\n",
              "    <tr>\n",
              "      <th>4</th>\n",
              "      <td>Polynomial_SVM</td>\n",
              "      <td>0.039925</td>\n",
              "    </tr>\n",
              "    <tr>\n",
              "      <th>5</th>\n",
              "      <td>RBF_SVM</td>\n",
              "      <td>0.038704</td>\n",
              "    </tr>\n",
              "  </tbody>\n",
              "</table>\n",
              "</div>"
            ],
            "text/plain": [
              "                    name     score\n",
              "0       LinearRegression  1.000000\n",
              "1  RandomForestRegressor  0.954862\n",
              "2  DecisionTreeRegressor  0.892760\n",
              "3             Linear_SVM  0.327234\n",
              "4         Polynomial_SVM  0.039925\n",
              "5                RBF_SVM  0.038704"
            ]
          },
          "metadata": {
            "tags": []
          },
          "execution_count": 13
        }
      ]
    },
    {
      "cell_type": "code",
      "metadata": {
        "colab": {
          "base_uri": "https://localhost:8080/",
          "height": 162
        },
        "id": "QEliXCmMRRGn",
        "outputId": "e1fa760f-bf1b-4135-d4ee-bede3e0e314d"
      },
      "source": [
        "cm = sns.light_palette(\"green\", as_cmap=True)\n",
        "s = df.style.background_gradient(cmap=cm)\n",
        "s"
      ],
      "execution_count": 14,
      "outputs": [
        {
          "output_type": "execute_result",
          "data": {
            "text/html": [
              "<style  type=\"text/css\" >\n",
              "#T_7d2c62e2_c5e0_11eb_a366_0242ac1c0002row0_col1{\n",
              "            background-color:  #008000;\n",
              "            color:  #f1f1f1;\n",
              "        }#T_7d2c62e2_c5e0_11eb_a366_0242ac1c0002row1_col1{\n",
              "            background-color:  #0b850b;\n",
              "            color:  #f1f1f1;\n",
              "        }#T_7d2c62e2_c5e0_11eb_a366_0242ac1c0002row2_col1{\n",
              "            background-color:  #1a8d1a;\n",
              "            color:  #000000;\n",
              "        }#T_7d2c62e2_c5e0_11eb_a366_0242ac1c0002row3_col1{\n",
              "            background-color:  #a5d1a5;\n",
              "            color:  #000000;\n",
              "        }#T_7d2c62e2_c5e0_11eb_a366_0242ac1c0002row4_col1,#T_7d2c62e2_c5e0_11eb_a366_0242ac1c0002row5_col1{\n",
              "            background-color:  #ebf3eb;\n",
              "            color:  #000000;\n",
              "        }</style><table id=\"T_7d2c62e2_c5e0_11eb_a366_0242ac1c0002\" ><thead>    <tr>        <th class=\"blank level0\" ></th>        <th class=\"col_heading level0 col0\" >name</th>        <th class=\"col_heading level0 col1\" >score</th>    </tr></thead><tbody>\n",
              "                <tr>\n",
              "                        <th id=\"T_7d2c62e2_c5e0_11eb_a366_0242ac1c0002level0_row0\" class=\"row_heading level0 row0\" >0</th>\n",
              "                        <td id=\"T_7d2c62e2_c5e0_11eb_a366_0242ac1c0002row0_col0\" class=\"data row0 col0\" >LinearRegression</td>\n",
              "                        <td id=\"T_7d2c62e2_c5e0_11eb_a366_0242ac1c0002row0_col1\" class=\"data row0 col1\" >1.000000</td>\n",
              "            </tr>\n",
              "            <tr>\n",
              "                        <th id=\"T_7d2c62e2_c5e0_11eb_a366_0242ac1c0002level0_row1\" class=\"row_heading level0 row1\" >1</th>\n",
              "                        <td id=\"T_7d2c62e2_c5e0_11eb_a366_0242ac1c0002row1_col0\" class=\"data row1 col0\" >RandomForestRegressor</td>\n",
              "                        <td id=\"T_7d2c62e2_c5e0_11eb_a366_0242ac1c0002row1_col1\" class=\"data row1 col1\" >0.954862</td>\n",
              "            </tr>\n",
              "            <tr>\n",
              "                        <th id=\"T_7d2c62e2_c5e0_11eb_a366_0242ac1c0002level0_row2\" class=\"row_heading level0 row2\" >2</th>\n",
              "                        <td id=\"T_7d2c62e2_c5e0_11eb_a366_0242ac1c0002row2_col0\" class=\"data row2 col0\" >DecisionTreeRegressor</td>\n",
              "                        <td id=\"T_7d2c62e2_c5e0_11eb_a366_0242ac1c0002row2_col1\" class=\"data row2 col1\" >0.892760</td>\n",
              "            </tr>\n",
              "            <tr>\n",
              "                        <th id=\"T_7d2c62e2_c5e0_11eb_a366_0242ac1c0002level0_row3\" class=\"row_heading level0 row3\" >3</th>\n",
              "                        <td id=\"T_7d2c62e2_c5e0_11eb_a366_0242ac1c0002row3_col0\" class=\"data row3 col0\" >Linear_SVM</td>\n",
              "                        <td id=\"T_7d2c62e2_c5e0_11eb_a366_0242ac1c0002row3_col1\" class=\"data row3 col1\" >0.327234</td>\n",
              "            </tr>\n",
              "            <tr>\n",
              "                        <th id=\"T_7d2c62e2_c5e0_11eb_a366_0242ac1c0002level0_row4\" class=\"row_heading level0 row4\" >4</th>\n",
              "                        <td id=\"T_7d2c62e2_c5e0_11eb_a366_0242ac1c0002row4_col0\" class=\"data row4 col0\" >Polynomial_SVM</td>\n",
              "                        <td id=\"T_7d2c62e2_c5e0_11eb_a366_0242ac1c0002row4_col1\" class=\"data row4 col1\" >0.039925</td>\n",
              "            </tr>\n",
              "            <tr>\n",
              "                        <th id=\"T_7d2c62e2_c5e0_11eb_a366_0242ac1c0002level0_row5\" class=\"row_heading level0 row5\" >5</th>\n",
              "                        <td id=\"T_7d2c62e2_c5e0_11eb_a366_0242ac1c0002row5_col0\" class=\"data row5 col0\" >RBF_SVM</td>\n",
              "                        <td id=\"T_7d2c62e2_c5e0_11eb_a366_0242ac1c0002row5_col1\" class=\"data row5 col1\" >0.038704</td>\n",
              "            </tr>\n",
              "    </tbody></table>"
            ],
            "text/plain": [
              "<pandas.io.formats.style.Styler at 0x7fc43fd26a90>"
            ]
          },
          "metadata": {
            "tags": []
          },
          "execution_count": 14
        }
      ]
    },
    {
      "cell_type": "code",
      "metadata": {
        "id": "T05pMRwgRw7J",
        "outputId": "90954fe4-5ef6-4b2b-f2d3-3f2d7ebd6008",
        "colab": {
          "base_uri": "https://localhost:8080/",
          "height": 285
        }
      },
      "source": [
        "sns.set(style=\"whitegrid\")\n",
        "ax = sns.barplot(y=\"name\", x=\"score\", data=df)"
      ],
      "execution_count": 15,
      "outputs": [
        {
          "output_type": "display_data",
          "data": {
            "image/png": "[encoded data removed]",
            "text/plain": [
              "<Figure size 432x288 with 1 Axes>"
            ]
          },
          "metadata": {
            "tags": []
          }
        }
      ]
    }
  ]
}